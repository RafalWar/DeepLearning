{
  "nbformat": 4,
  "nbformat_minor": 0,
  "metadata": {
    "colab": {
      "name": "Reuters_keras.ipynb",
      "provenance": [],
      "authorship_tag": "ABX9TyPCf1HJjEihlhLDMeLoeRf7",
      "include_colab_link": true
    },
    "kernelspec": {
      "name": "python3",
      "display_name": "Python 3"
    }
  },
  "cells": [
    {
      "cell_type": "markdown",
      "metadata": {
        "id": "view-in-github",
        "colab_type": "text"
      },
      "source": [
        "<a href=\"https://colab.research.google.com/github/RafalWar/DeepLearning/blob/master/Reuters_keras.ipynb\" target=\"_parent\"><img src=\"https://colab.research.google.com/assets/colab-badge.svg\" alt=\"Open In Colab\"/></a>"
      ]
    },
    {
      "cell_type": "code",
      "metadata": {
        "id": "SzZXB_qS9eUn",
        "colab_type": "code",
        "colab": {
          "base_uri": "https://localhost:8080/",
          "height": 80
        },
        "outputId": "dd3d860d-b1ba-4540-9742-670d53114a12"
      },
      "source": [
        "from keras.datasets import reuters\n",
        "\n",
        "(train_data, train_labels), (test_data, test_labels) = reuters.load_data(num_words=10000)"
      ],
      "execution_count": 1,
      "outputs": [
        {
          "output_type": "stream",
          "text": [
            "Using TensorFlow backend.\n"
          ],
          "name": "stderr"
        },
        {
          "output_type": "display_data",
          "data": {
            "text/html": [
              "<p style=\"color: red;\">\n",
              "The default version of TensorFlow in Colab will soon switch to TensorFlow 2.x.<br>\n",
              "We recommend you <a href=\"https://www.tensorflow.org/guide/migrate\" target=\"_blank\">upgrade</a> now \n",
              "or ensure your notebook will continue to use TensorFlow 1.x via the <code>%tensorflow_version 1.x</code> magic:\n",
              "<a href=\"https://colab.research.google.com/notebooks/tensorflow_version.ipynb\" target=\"_blank\">more info</a>.</p>\n"
            ],
            "text/plain": [
              "<IPython.core.display.HTML object>"
            ]
          },
          "metadata": {
            "tags": []
          }
        }
      ]
    },
    {
      "cell_type": "code",
      "metadata": {
        "id": "MRqTIVW4-dys",
        "colab_type": "code",
        "colab": {}
      },
      "source": [
        "import numpy as np\n",
        "def vectorize_sequences(sequences, dimension=10000):\n",
        "  results = np.zeros((len(sequences), dimension))\n",
        "  for i, sequences in enumerate(sequences):\n",
        "    results[i, sequences] = 1.\n",
        "  return results\n",
        "\n",
        "x_train = vectorize_sequences(train_data)\n",
        "x_test = vectorize_sequences(test_data)\n",
        "\n",
        "from keras.utils.np_utils import to_categorical\n",
        "one_hot_train_labels = to_categorical(train_labels)\n",
        "one_hot_test_labels = to_categorical(test_labels)\n",
        "#y_train = np.asarray(train_labels).astype('float32')\n",
        "#y_test = np.asarray(test_labels).astype('float32')\n"
      ],
      "execution_count": 0,
      "outputs": []
    },
    {
      "cell_type": "code",
      "metadata": {
        "id": "P9TH_j4YBHTd",
        "colab_type": "code",
        "colab": {
          "base_uri": "https://localhost:8080/",
          "height": 139
        },
        "outputId": "802cfcdd-f2ed-442b-d1f8-890da308f57c"
      },
      "source": [
        "from keras import models\n",
        "from keras import layers\n",
        "\n",
        "model = models.Sequential()\n",
        "model.add(layers.Dense(64, activation='relu', input_shape=(10000,)))\n",
        "model.add(layers.Dense(64, activation='relu'))\n",
        "model.add(layers.Dense(46, activation='softmax'))\n"
      ],
      "execution_count": 3,
      "outputs": [
        {
          "output_type": "stream",
          "text": [
            "WARNING:tensorflow:From /usr/local/lib/python3.6/dist-packages/keras/backend/tensorflow_backend.py:66: The name tf.get_default_graph is deprecated. Please use tf.compat.v1.get_default_graph instead.\n",
            "\n",
            "WARNING:tensorflow:From /usr/local/lib/python3.6/dist-packages/keras/backend/tensorflow_backend.py:541: The name tf.placeholder is deprecated. Please use tf.compat.v1.placeholder instead.\n",
            "\n",
            "WARNING:tensorflow:From /usr/local/lib/python3.6/dist-packages/keras/backend/tensorflow_backend.py:4432: The name tf.random_uniform is deprecated. Please use tf.random.uniform instead.\n",
            "\n"
          ],
          "name": "stdout"
        }
      ]
    },
    {
      "cell_type": "code",
      "metadata": {
        "id": "4ITfJKNeFa-E",
        "colab_type": "code",
        "colab": {
          "base_uri": "https://localhost:8080/",
          "height": 105
        },
        "outputId": "1e764a04-c948-40a4-c948-0d9bdb2b3522"
      },
      "source": [
        "model.compile(optimizer='rmsprop',\n",
        "              loss='categorical_crossentropy',\n",
        "              metrics=['accuracy'])"
      ],
      "execution_count": 4,
      "outputs": [
        {
          "output_type": "stream",
          "text": [
            "WARNING:tensorflow:From /usr/local/lib/python3.6/dist-packages/keras/optimizers.py:793: The name tf.train.Optimizer is deprecated. Please use tf.compat.v1.train.Optimizer instead.\n",
            "\n",
            "WARNING:tensorflow:From /usr/local/lib/python3.6/dist-packages/keras/backend/tensorflow_backend.py:3576: The name tf.log is deprecated. Please use tf.math.log instead.\n",
            "\n"
          ],
          "name": "stdout"
        }
      ]
    },
    {
      "cell_type": "code",
      "metadata": {
        "id": "18mxY_RCFmUa",
        "colab_type": "code",
        "colab": {}
      },
      "source": [
        "x_val = x_train[:1000]\n",
        "partial_x_train = x_train[1000:]\n",
        "\n",
        "y_val = one_hot_train_labels[:1000]\n",
        "partial_y_train = one_hot_train_labels[1000:]"
      ],
      "execution_count": 0,
      "outputs": []
    },
    {
      "cell_type": "code",
      "metadata": {
        "id": "-QGTKXhvHxV6",
        "colab_type": "code",
        "colab": {
          "base_uri": "https://localhost:8080/",
          "height": 34
        },
        "outputId": "36d9d6e0-c698-4617-d5b4-4a13d3864765"
      },
      "source": [
        "y_val.shape\n",
        "partial_y_train.shape"
      ],
      "execution_count": 6,
      "outputs": [
        {
          "output_type": "execute_result",
          "data": {
            "text/plain": [
              "(7982, 46)"
            ]
          },
          "metadata": {
            "tags": []
          },
          "execution_count": 6
        }
      ]
    },
    {
      "cell_type": "code",
      "metadata": {
        "id": "rDmycdYvGIG1",
        "colab_type": "code",
        "colab": {
          "base_uri": "https://localhost:8080/",
          "height": 1000
        },
        "outputId": "e9558695-4ddb-4e29-fc5e-23e7d1d0d9d7"
      },
      "source": [
        "history = model.fit(partial_x_train,\n",
        "                    partial_y_train,\n",
        "                    epochs = 9,\n",
        "                    batch_size = 512,\n",
        "                    validation_data = (x_val, y_val))"
      ],
      "execution_count": 7,
      "outputs": [
        {
          "output_type": "stream",
          "text": [
            "WARNING:tensorflow:From /usr/local/lib/python3.6/dist-packages/tensorflow_core/python/ops/math_grad.py:1424: where (from tensorflow.python.ops.array_ops) is deprecated and will be removed in a future version.\n",
            "Instructions for updating:\n",
            "Use tf.where in 2.0, which has the same broadcast rule as np.where\n",
            "WARNING:tensorflow:From /usr/local/lib/python3.6/dist-packages/keras/backend/tensorflow_backend.py:1033: The name tf.assign_add is deprecated. Please use tf.compat.v1.assign_add instead.\n",
            "\n",
            "WARNING:tensorflow:From /usr/local/lib/python3.6/dist-packages/keras/backend/tensorflow_backend.py:1020: The name tf.assign is deprecated. Please use tf.compat.v1.assign instead.\n",
            "\n",
            "WARNING:tensorflow:From /usr/local/lib/python3.6/dist-packages/keras/backend/tensorflow_backend.py:3005: The name tf.Session is deprecated. Please use tf.compat.v1.Session instead.\n",
            "\n",
            "Train on 7982 samples, validate on 1000 samples\n",
            "Epoch 1/20\n",
            "WARNING:tensorflow:From /usr/local/lib/python3.6/dist-packages/keras/backend/tensorflow_backend.py:190: The name tf.get_default_session is deprecated. Please use tf.compat.v1.get_default_session instead.\n",
            "\n",
            "WARNING:tensorflow:From /usr/local/lib/python3.6/dist-packages/keras/backend/tensorflow_backend.py:197: The name tf.ConfigProto is deprecated. Please use tf.compat.v1.ConfigProto instead.\n",
            "\n",
            "WARNING:tensorflow:From /usr/local/lib/python3.6/dist-packages/keras/backend/tensorflow_backend.py:207: The name tf.global_variables is deprecated. Please use tf.compat.v1.global_variables instead.\n",
            "\n",
            "WARNING:tensorflow:From /usr/local/lib/python3.6/dist-packages/keras/backend/tensorflow_backend.py:216: The name tf.is_variable_initialized is deprecated. Please use tf.compat.v1.is_variable_initialized instead.\n",
            "\n",
            "WARNING:tensorflow:From /usr/local/lib/python3.6/dist-packages/keras/backend/tensorflow_backend.py:223: The name tf.variables_initializer is deprecated. Please use tf.compat.v1.variables_initializer instead.\n",
            "\n",
            "7982/7982 [==============================] - 2s 191us/step - loss: 2.6243 - acc: 0.5368 - val_loss: 1.7097 - val_acc: 0.6380\n",
            "Epoch 2/20\n",
            "7982/7982 [==============================] - 1s 114us/step - loss: 1.4125 - acc: 0.7055 - val_loss: 1.2946 - val_acc: 0.7150\n",
            "Epoch 3/20\n",
            "7982/7982 [==============================] - 1s 116us/step - loss: 1.0439 - acc: 0.7746 - val_loss: 1.1326 - val_acc: 0.7610\n",
            "Epoch 4/20\n",
            "7982/7982 [==============================] - 1s 113us/step - loss: 0.8192 - acc: 0.8269 - val_loss: 1.0485 - val_acc: 0.7720\n",
            "Epoch 5/20\n",
            "7982/7982 [==============================] - 1s 117us/step - loss: 0.6448 - acc: 0.8652 - val_loss: 0.9559 - val_acc: 0.7930\n",
            "Epoch 6/20\n",
            "7982/7982 [==============================] - 1s 115us/step - loss: 0.5140 - acc: 0.8928 - val_loss: 0.9483 - val_acc: 0.8000\n",
            "Epoch 7/20\n",
            "7982/7982 [==============================] - 1s 115us/step - loss: 0.4124 - acc: 0.9153 - val_loss: 0.9214 - val_acc: 0.8030\n",
            "Epoch 8/20\n",
            "7982/7982 [==============================] - 1s 115us/step - loss: 0.3385 - acc: 0.9265 - val_loss: 0.9277 - val_acc: 0.8070\n",
            "Epoch 9/20\n",
            "7982/7982 [==============================] - 1s 113us/step - loss: 0.2802 - acc: 0.9381 - val_loss: 0.9074 - val_acc: 0.8070\n",
            "Epoch 10/20\n",
            "7982/7982 [==============================] - 1s 114us/step - loss: 0.2392 - acc: 0.9453 - val_loss: 0.9443 - val_acc: 0.8100\n",
            "Epoch 11/20\n",
            "7982/7982 [==============================] - 1s 115us/step - loss: 0.2074 - acc: 0.9479 - val_loss: 0.9823 - val_acc: 0.8000\n",
            "Epoch 12/20\n",
            "7982/7982 [==============================] - 1s 116us/step - loss: 0.1827 - acc: 0.9510 - val_loss: 0.9385 - val_acc: 0.8140\n",
            "Epoch 13/20\n",
            "7982/7982 [==============================] - 1s 116us/step - loss: 0.1636 - acc: 0.9539 - val_loss: 1.0040 - val_acc: 0.7950\n",
            "Epoch 14/20\n",
            "7982/7982 [==============================] - 1s 114us/step - loss: 0.1529 - acc: 0.9557 - val_loss: 0.9696 - val_acc: 0.8100\n",
            "Epoch 15/20\n",
            "7982/7982 [==============================] - 1s 114us/step - loss: 0.1426 - acc: 0.9548 - val_loss: 0.9909 - val_acc: 0.8090\n",
            "Epoch 16/20\n",
            "7982/7982 [==============================] - 1s 118us/step - loss: 0.1321 - acc: 0.9577 - val_loss: 1.0492 - val_acc: 0.7970\n",
            "Epoch 17/20\n",
            "7982/7982 [==============================] - 1s 116us/step - loss: 0.1223 - acc: 0.9602 - val_loss: 1.0287 - val_acc: 0.8050\n",
            "Epoch 18/20\n",
            "7982/7982 [==============================] - 1s 115us/step - loss: 0.1251 - acc: 0.9573 - val_loss: 1.0515 - val_acc: 0.7930\n",
            "Epoch 19/20\n",
            "7982/7982 [==============================] - 1s 115us/step - loss: 0.1102 - acc: 0.9568 - val_loss: 1.1012 - val_acc: 0.7990\n",
            "Epoch 20/20\n",
            "7982/7982 [==============================] - 1s 115us/step - loss: 0.1118 - acc: 0.9588 - val_loss: 1.1039 - val_acc: 0.7920\n"
          ],
          "name": "stdout"
        }
      ]
    },
    {
      "cell_type": "code",
      "metadata": {
        "id": "3qcygYraGwBc",
        "colab_type": "code",
        "colab": {
          "base_uri": "https://localhost:8080/",
          "height": 265
        },
        "outputId": "547b9734-6e2a-4474-9b95-a2e3eed4241e"
      },
      "source": [
        "import matplotlib.pyplot as plt\n",
        "acc = history.history['acc']\n",
        "val_acc = history.history['val_acc']\n",
        "loss = history.history['loss']\n",
        "val_loss = history.history['val_loss']\n",
        "\n",
        "epochs = range(1, len(acc)+1)\n",
        "\n",
        "plt.plot(epochs, loss)\n",
        "plt.plot(epochs, val_loss)\n",
        "\n",
        "plt.show()"
      ],
      "execution_count": 8,
      "outputs": [
        {
          "output_type": "display_data",
          "data": {
            "image/png": "[encoded data removed]",
            "text/plain": [
              "<Figure size 432x288 with 1 Axes>"
            ]
          },
          "metadata": {
            "tags": []
          }
        }
      ]
    },
    {
      "cell_type": "code",
      "metadata": {
        "id": "IP16a6jjHK6a",
        "colab_type": "code",
        "colab": {
          "base_uri": "https://localhost:8080/",
          "height": 265
        },
        "outputId": "b6db06c7-0057-4d22-fefd-8b4d99d83c3f"
      },
      "source": [
        "plt.plot(epochs, acc)\n",
        "plt.plot(epochs, val_acc)\n",
        "plt.show()"
      ],
      "execution_count": 9,
      "outputs": [
        {
          "output_type": "display_data",
          "data": {
            "image/png": "[encoded data removed]",
            "text/plain": [
              "<Figure size 432x288 with 1 Axes>"
            ]
          },
          "metadata": {
            "tags": []
          }
        }
      ]
    },
    {
      "cell_type": "code",
      "metadata": {
        "id": "ROx5L-GaJns3",
        "colab_type": "code",
        "colab": {
          "base_uri": "https://localhost:8080/",
          "height": 51
        },
        "outputId": "f41c4a6d-41a3-4422-fcfb-d93bd23d29bb"
      },
      "source": [
        "print(model.evaluate(x_test,one_hot_test_labels))"
      ],
      "execution_count": 10,
      "outputs": [
        {
          "output_type": "stream",
          "text": [
            "2246/2246 [==============================] - 0s 91us/step\n",
            "[1.2025274604107796, 0.7867319679430098]\n"
          ],
          "name": "stdout"
        }
      ]
    },
    {
      "cell_type": "code",
      "metadata": {
        "id": "GaA1VaYQMAh1",
        "colab_type": "code",
        "colab": {
          "base_uri": "https://localhost:8080/",
          "height": 224
        },
        "outputId": "4cf646b2-0dcb-41f9-cda5-9fb97f1be32f"
      },
      "source": [
        "predictions = model.predict(x_test)\n",
        "print(predictions.shape)\n",
        "print(predictions[0].shape)\n",
        "print(np.argmax(predictions[0]))\n",
        "np.set_printoptions(precision=3)\n",
        "print(predictions[0])\n",
        "print([ \"{:0.3f}\".format(x) for x in predictions[0] ])"
      ],
      "execution_count": 22,
      "outputs": [
        {
          "output_type": "stream",
          "text": [
            "(2246, 46)\n",
            "(46,)\n",
            "3\n",
            "[9.226e-07 1.557e-05 5.627e-08 9.737e-01 2.481e-02 4.515e-07 6.021e-08\n",
            " 5.966e-06 9.837e-05 4.518e-06 9.003e-07 6.105e-04 4.892e-06 5.143e-07\n",
            " 2.691e-06 1.389e-08 7.545e-06 3.947e-06 1.026e-06 8.594e-06 4.232e-04\n",
            " 6.804e-05 1.933e-08 9.437e-07 1.825e-06 1.835e-07 4.468e-08 6.935e-07\n",
            " 2.213e-06 8.837e-06 6.425e-05 1.348e-08 1.427e-06 7.321e-08 6.904e-05\n",
            " 1.695e-08 1.012e-04 3.062e-07 8.824e-06 2.458e-06 3.549e-07 1.048e-07\n",
            " 1.103e-08 3.867e-06 2.034e-08 6.061e-06]\n",
            "['0.000', '0.000', '0.000', '0.974', '0.025', '0.000', '0.000', '0.000', '0.000', '0.000', '0.000', '0.001', '0.000', '0.000', '0.000', '0.000', '0.000', '0.000', '0.000', '0.000', '0.000', '0.000', '0.000', '0.000', '0.000', '0.000', '0.000', '0.000', '0.000', '0.000', '0.000', '0.000', '0.000', '0.000', '0.000', '0.000', '0.000', '0.000', '0.000', '0.000', '0.000', '0.000', '0.000', '0.000', '0.000', '0.000']\n"
          ],
          "name": "stdout"
        }
      ]
    }
  ]
}